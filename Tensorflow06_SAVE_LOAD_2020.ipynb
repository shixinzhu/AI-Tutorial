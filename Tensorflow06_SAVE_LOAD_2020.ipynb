{
  "nbformat": 4,
  "nbformat_minor": 0,
  "metadata": {
    "colab": {
      "name": "Tensorflow06_SAVE_LOAD_2020.ipynb",
      "provenance": [],
      "collapsed_sections": [],
      "authorship_tag": "ABX9TyNxu9dW0YgK0hmj3M1jWihp",
      "include_colab_link": true
    },
    "kernelspec": {
      "name": "python3",
      "display_name": "Python 3"
    }
  },
  "cells": [
    {
      "cell_type": "markdown",
      "metadata": {
        "id": "view-in-github",
        "colab_type": "text"
      },
      "source": [
        "<a href=\"https://colab.research.google.com/github/shixinzhu/DL-GoogleColab-2020/blob/master/Tensorflow06_SAVE_LOAD_2020.ipynb\" target=\"_parent\"><img src=\"https://colab.research.google.com/assets/colab-badge.svg\" alt=\"Open In Colab\"/></a>"
      ]
    },
    {
      "cell_type": "code",
      "metadata": {
        "id": "DeNpjEs5Yu3Q"
      },
      "source": [
        "import os\n",
        "os.environ['TF_CPP_MIN_LOG_LEVEL'] = '2'\n",
        "\n",
        "import tensorflow as tf\n",
        "from tensorflow import keras\n",
        "import numpy as np"
      ],
      "execution_count": 1,
      "outputs": []
    },
    {
      "cell_type": "code",
      "metadata": {
        "colab": {
          "base_uri": "https://localhost:8080/"
        },
        "id": "Gv7YJiM0Y7kA",
        "outputId": "0f8a0619-f26b-4cc3-e34a-08a61ab2ff92"
      },
      "source": [
        "mnist = keras.datasets.mnist\n",
        "\n",
        "(x_train, y_train), (x_test, y_test) = mnist.load_data()"
      ],
      "execution_count": 2,
      "outputs": [
        {
          "output_type": "stream",
          "text": [
            "Downloading data from https://storage.googleapis.com/tensorflow/tf-keras-datasets/mnist.npz\n",
            "11493376/11490434 [==============================] - 0s 0us/step\n"
          ],
          "name": "stdout"
        }
      ]
    },
    {
      "cell_type": "code",
      "metadata": {
        "id": "q2WwuYQHY9zx"
      },
      "source": [
        "# normalize\n",
        "x_train, x_test = x_train / 255.0, x_test / 255.0"
      ],
      "execution_count": 3,
      "outputs": []
    },
    {
      "cell_type": "code",
      "metadata": {
        "id": "19RHT_RYZDJf"
      },
      "source": [
        "# Feed forward neural network\n",
        "model = keras.models.Sequential([\n",
        "    keras.layers.Flatten(input_shape=(28,28)),\n",
        "    keras.layers.Dense(128, activation='relu'),\n",
        "    keras.layers.Dense(10),\n",
        "])"
      ],
      "execution_count": 7,
      "outputs": []
    },
    {
      "cell_type": "code",
      "metadata": {
        "id": "L_8Qiy0BZE0m"
      },
      "source": [
        "# config\n",
        "loss = keras.losses.SparseCategoricalCrossentropy(from_logits=True)\n",
        "optim = keras.optimizers.Adam(lr=0.001) # \"adam\"\n",
        "metrics = [keras.metrics.SparseCategoricalAccuracy()] # \"accuracy\""
      ],
      "execution_count": 8,
      "outputs": []
    },
    {
      "cell_type": "code",
      "metadata": {
        "id": "dBa_4ii2ZIvR"
      },
      "source": [
        "# compile\n",
        "model.compile(loss=loss, optimizer=optim, metrics=metrics)"
      ],
      "execution_count": 9,
      "outputs": []
    },
    {
      "cell_type": "code",
      "metadata": {
        "colab": {
          "base_uri": "https://localhost:8080/"
        },
        "id": "vA2YwgLQZJXB",
        "outputId": "9fbc25c6-db9b-4600-80c3-466479e9e534"
      },
      "source": [
        "# fit/training\n",
        "model.fit(x_train, y_train, batch_size=64, epochs=5, shuffle=True, verbose=2)"
      ],
      "execution_count": 10,
      "outputs": [
        {
          "output_type": "stream",
          "text": [
            "Epoch 1/5\n",
            "938/938 - 2s - loss: 0.2983 - sparse_categorical_accuracy: 0.9158\n",
            "Epoch 2/5\n",
            "938/938 - 2s - loss: 0.1352 - sparse_categorical_accuracy: 0.9619\n",
            "Epoch 3/5\n",
            "938/938 - 2s - loss: 0.0932 - sparse_categorical_accuracy: 0.9731\n",
            "Epoch 4/5\n",
            "938/938 - 2s - loss: 0.0711 - sparse_categorical_accuracy: 0.9789\n",
            "Epoch 5/5\n",
            "938/938 - 2s - loss: 0.0560 - sparse_categorical_accuracy: 0.9837\n"
          ],
          "name": "stdout"
        },
        {
          "output_type": "execute_result",
          "data": {
            "text/plain": [
              "<tensorflow.python.keras.callbacks.History at 0x7fe7bfc21780>"
            ]
          },
          "metadata": {
            "tags": []
          },
          "execution_count": 10
        }
      ]
    },
    {
      "cell_type": "code",
      "metadata": {
        "colab": {
          "base_uri": "https://localhost:8080/"
        },
        "id": "j7TOzJVGZLts",
        "outputId": "6eb64544-6fb1-432c-cb1b-f46ff9b41d8f"
      },
      "source": [
        "print(\"Evaluate:\")\n",
        "model.evaluate(x_test,  y_test, verbose=2)"
      ],
      "execution_count": 11,
      "outputs": [
        {
          "output_type": "stream",
          "text": [
            "Evaluate:\n",
            "313/313 - 0s - loss: 0.0772 - sparse_categorical_accuracy: 0.9768\n"
          ],
          "name": "stdout"
        },
        {
          "output_type": "execute_result",
          "data": {
            "text/plain": [
              "[0.07724820822477341, 0.9768000245094299]"
            ]
          },
          "metadata": {
            "tags": []
          },
          "execution_count": 11
        }
      ]
    },
    {
      "cell_type": "code",
      "metadata": {
        "colab": {
          "base_uri": "https://localhost:8080/"
        },
        "id": "hZcZXva7ZMec",
        "outputId": "1c05d6ad-7cf3-45c1-b12a-48fa0ecbc4d6"
      },
      "source": [
        "# 1) Save whole model\n",
        "# two formats: SavedModel or HDF5\n",
        "model.save(\"nn\")  # no file ending = SavedModel\n",
        "model.save(\"nn.h5\")  # .h5 = HDF5"
      ],
      "execution_count": 12,
      "outputs": [
        {
          "output_type": "stream",
          "text": [
            "INFO:tensorflow:Assets written to: nn/assets\n"
          ],
          "name": "stdout"
        }
      ]
    },
    {
      "cell_type": "code",
      "metadata": {
        "colab": {
          "base_uri": "https://localhost:8080/"
        },
        "id": "hapoTXm6Zei0",
        "outputId": "dccbcb72-74de-488d-daef-b2a39e04e779"
      },
      "source": [
        "new_model = keras.models.load_model(\"nn.h5\")\n",
        "print(new_model.summary())"
      ],
      "execution_count": 14,
      "outputs": [
        {
          "output_type": "stream",
          "text": [
            "Model: \"sequential_1\"\n",
            "_________________________________________________________________\n",
            "Layer (type)                 Output Shape              Param #   \n",
            "=================================================================\n",
            "flatten_1 (Flatten)          (None, 784)               0         \n",
            "_________________________________________________________________\n",
            "dense_2 (Dense)              (None, 128)               100480    \n",
            "_________________________________________________________________\n",
            "dense_3 (Dense)              (None, 10)                1290      \n",
            "=================================================================\n",
            "Total params: 101,770\n",
            "Trainable params: 101,770\n",
            "Non-trainable params: 0\n",
            "_________________________________________________________________\n",
            "None\n"
          ],
          "name": "stdout"
        }
      ]
    },
    {
      "cell_type": "code",
      "metadata": {
        "id": "axZlMtjoZlLw"
      },
      "source": [
        "# 2) save only weights\n",
        "model.save_weights(\"nn_weights.h5\")"
      ],
      "execution_count": 15,
      "outputs": []
    },
    {
      "cell_type": "code",
      "metadata": {
        "id": "EK0fVFc9ZvWr"
      },
      "source": [
        "# initilaize model first:\n",
        "# model = keras.Sequential([...])\n",
        "model.load_weights(\"nn_weights.h5\")"
      ],
      "execution_count": 16,
      "outputs": []
    },
    {
      "cell_type": "code",
      "metadata": {
        "id": "E1etTDqMZyU8"
      },
      "source": [
        "# 3) save only architecture, to_json\n",
        "json_string = model.to_json()"
      ],
      "execution_count": 17,
      "outputs": []
    },
    {
      "cell_type": "code",
      "metadata": {
        "id": "8cg4MLJiZzaT"
      },
      "source": [
        "with open(\"nn_model.json\", \"w\") as f:\n",
        "    f.write(json_string)"
      ],
      "execution_count": 18,
      "outputs": []
    },
    {
      "cell_type": "code",
      "metadata": {
        "id": "NNAQaDWWZ1uX"
      },
      "source": [
        "with open(\"nn_model.json\", \"r\") as f:\n",
        "    loaded_json_string = f.read()"
      ],
      "execution_count": 19,
      "outputs": []
    },
    {
      "cell_type": "code",
      "metadata": {
        "colab": {
          "base_uri": "https://localhost:8080/"
        },
        "id": "ssdm9Vc3Z4JY",
        "outputId": "ef7b01e7-d03e-47f5-f099-6b576dfd5be2"
      },
      "source": [
        "new_model = keras.models.model_from_json(loaded_json_string)\n",
        "print(new_model.summary())"
      ],
      "execution_count": 20,
      "outputs": [
        {
          "output_type": "stream",
          "text": [
            "Model: \"sequential_1\"\n",
            "_________________________________________________________________\n",
            "Layer (type)                 Output Shape              Param #   \n",
            "=================================================================\n",
            "flatten_1 (Flatten)          (None, 784)               0         \n",
            "_________________________________________________________________\n",
            "dense_2 (Dense)              (None, 128)               100480    \n",
            "_________________________________________________________________\n",
            "dense_3 (Dense)              (None, 10)                1290      \n",
            "=================================================================\n",
            "Total params: 101,770\n",
            "Trainable params: 101,770\n",
            "Non-trainable params: 0\n",
            "_________________________________________________________________\n",
            "None\n"
          ],
          "name": "stdout"
        }
      ]
    }
  ]
}