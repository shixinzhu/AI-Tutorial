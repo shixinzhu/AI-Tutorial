{
  "nbformat": 4,
  "nbformat_minor": 0,
  "metadata": {
    "colab": {
      "name": "Tensorflow10_RNN_2020.ipynb",
      "provenance": [],
      "collapsed_sections": [],
      "authorship_tag": "ABX9TyPY+F0jvTJeorz1o3GUg/zB",
      "include_colab_link": true
    },
    "kernelspec": {
      "name": "python3",
      "display_name": "Python 3"
    }
  },
  "cells": [
    {
      "cell_type": "markdown",
      "metadata": {
        "id": "view-in-github",
        "colab_type": "text"
      },
      "source": [
        "<a href=\"https://colab.research.google.com/github/shixinzhu/DL-GoogleColab-2020/blob/master/Tensorflow10_RNN_2020.ipynb\" target=\"_parent\"><img src=\"https://colab.research.google.com/assets/colab-badge.svg\" alt=\"Open In Colab\"/></a>"
      ]
    },
    {
      "cell_type": "code",
      "metadata": {
        "id": "zJmp5KaQ7V4c"
      },
      "source": [
        "import os\n",
        "os.environ[\"TF_CPP_MIN_LOG_LEVEL\"] = \"2\"\n",
        "\n",
        "import tensorflow as tf\n",
        "from tensorflow import keras\n",
        "from tensorflow.keras import layers"
      ],
      "execution_count": 1,
      "outputs": []
    },
    {
      "cell_type": "code",
      "metadata": {
        "colab": {
          "base_uri": "https://localhost:8080/"
        },
        "id": "xBWphEo57izG",
        "outputId": "cd83d5eb-55b8-4f46-d762-91590119fc0c"
      },
      "source": [
        "mnist = keras.datasets.mnist\n",
        "\n",
        "(x_train, y_train), (x_test, y_test) = mnist.load_data()\n",
        "x_train, x_test = x_train / 255.0, x_test / 255.0\n",
        "# 28, 28 -> treat image as sequence\n",
        "# input_size=28\n",
        "# seq_length=28"
      ],
      "execution_count": 2,
      "outputs": [
        {
          "output_type": "stream",
          "text": [
            "Downloading data from https://storage.googleapis.com/tensorflow/tf-keras-datasets/mnist.npz\n",
            "11493376/11490434 [==============================] - 0s 0us/step\n"
          ],
          "name": "stdout"
        }
      ]
    },
    {
      "cell_type": "code",
      "metadata": {
        "id": "-34sT4lG7nAm"
      },
      "source": [
        "# RNN Outputs and states\n",
        "# ----------------------\n",
        "# By default, the output of a RNN layer contains a single vector per sample.\n",
        "# This vector is the RNN cell output corresponding to the last timestep, \n",
        "# containing information about the entire input sequence. \n",
        "# The shape of this output is (N, units)\n",
        "# \n",
        "# A RNN layer can also return the entire sequence of outputs \n",
        "# for each sample (one vector per timestep per sample), \n",
        "# if you set return_sequences=True. The shape of this output \n",
        "# is (N, timesteps, units)."
      ],
      "execution_count": 3,
      "outputs": []
    },
    {
      "cell_type": "code",
      "metadata": {
        "colab": {
          "base_uri": "https://localhost:8080/"
        },
        "id": "G-k2doCn7prZ",
        "outputId": "c03a5b54-5fad-403b-c439-4ee94b0bef2c"
      },
      "source": [
        "# model\n",
        "model = keras.models.Sequential()\n",
        "model.add(keras.Input(shape=(28,28))) # seq_length, input_size\n",
        "#model.add(layers.SimpleRNN(128, return_sequences=True, activation='relu')) # N, 28, 128\n",
        "model.add(layers.LSTM(128, return_sequences=False, activation='relu')) # N, 128\n",
        "model.add(layers.Dense(10))\n",
        "print(model.summary())"
      ],
      "execution_count": 4,
      "outputs": [
        {
          "output_type": "stream",
          "text": [
            "Model: \"sequential\"\n",
            "_________________________________________________________________\n",
            "Layer (type)                 Output Shape              Param #   \n",
            "=================================================================\n",
            "lstm (LSTM)                  (None, 128)               80384     \n",
            "_________________________________________________________________\n",
            "dense (Dense)                (None, 10)                1290      \n",
            "=================================================================\n",
            "Total params: 81,674\n",
            "Trainable params: 81,674\n",
            "Non-trainable params: 0\n",
            "_________________________________________________________________\n",
            "None\n"
          ],
          "name": "stdout"
        }
      ]
    },
    {
      "cell_type": "code",
      "metadata": {
        "id": "yrIwzWXa7soY"
      },
      "source": [
        "# loss and optimizer\n",
        "loss = keras.losses.SparseCategoricalCrossentropy(from_logits=True)\n",
        "optim = keras.optimizers.Adam(lr=0.001)\n",
        "metrics = [\"accuracy\"]"
      ],
      "execution_count": 5,
      "outputs": []
    },
    {
      "cell_type": "code",
      "metadata": {
        "id": "wfUUu1vQ7sqh"
      },
      "source": [
        "model.compile(loss=loss, optimizer=optim, metrics=metrics)"
      ],
      "execution_count": 6,
      "outputs": []
    },
    {
      "cell_type": "code",
      "metadata": {
        "colab": {
          "base_uri": "https://localhost:8080/"
        },
        "id": "IXW8QnyJ7vml",
        "outputId": "9029007d-8e26-427d-da2f-4ea4d5a79d6f"
      },
      "source": [
        "# training\n",
        "batch_size = 64\n",
        "epochs = 5\n",
        "\n",
        "model.fit(x_train, y_train, batch_size=batch_size, epochs=epochs, verbose=2)"
      ],
      "execution_count": 7,
      "outputs": [
        {
          "output_type": "stream",
          "text": [
            "Epoch 1/5\n",
            "938/938 - 38s - loss: 0.5945 - accuracy: 0.8091\n",
            "Epoch 2/5\n",
            "938/938 - 38s - loss: 0.1442 - accuracy: 0.9560\n",
            "Epoch 3/5\n",
            "938/938 - 38s - loss: 0.0996 - accuracy: 0.9691\n",
            "Epoch 4/5\n",
            "938/938 - 38s - loss: 0.0803 - accuracy: 0.9758\n",
            "Epoch 5/5\n",
            "938/938 - 38s - loss: 0.0675 - accuracy: 0.9788\n"
          ],
          "name": "stdout"
        },
        {
          "output_type": "execute_result",
          "data": {
            "text/plain": [
              "<tensorflow.python.keras.callbacks.History at 0x7f74fe118780>"
            ]
          },
          "metadata": {
            "tags": []
          },
          "execution_count": 7
        }
      ]
    },
    {
      "cell_type": "code",
      "metadata": {
        "colab": {
          "base_uri": "https://localhost:8080/"
        },
        "id": "SEy4JirM7zO9",
        "outputId": "755c66e8-c1d9-48f0-d236-06681d08dce4"
      },
      "source": [
        "# evaulate\n",
        "model.evaluate(x_test, y_test, batch_size=batch_size, verbose=2)"
      ],
      "execution_count": 8,
      "outputs": [
        {
          "output_type": "stream",
          "text": [
            "157/157 - 2s - loss: 0.0872 - accuracy: 0.9737\n"
          ],
          "name": "stdout"
        },
        {
          "output_type": "execute_result",
          "data": {
            "text/plain": [
              "[0.08721360564231873, 0.9736999869346619]"
            ]
          },
          "metadata": {
            "tags": []
          },
          "execution_count": 8
        }
      ]
    }
  ]
}