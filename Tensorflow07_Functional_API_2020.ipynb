{
  "nbformat": 4,
  "nbformat_minor": 0,
  "metadata": {
    "colab": {
      "name": "Tensorflow07_Functional_API_2020.ipynb",
      "provenance": [],
      "collapsed_sections": [],
      "authorship_tag": "ABX9TyM+4OJCgXkkfJNRkiNTOftZ",
      "include_colab_link": true
    },
    "kernelspec": {
      "name": "python3",
      "display_name": "Python 3"
    }
  },
  "cells": [
    {
      "cell_type": "markdown",
      "metadata": {
        "id": "view-in-github",
        "colab_type": "text"
      },
      "source": [
        "<a href=\"https://colab.research.google.com/github/shixinzhu/DL-GoogleColab-2020/blob/master/Tensorflow07_Functional_API_2020.ipynb\" target=\"_parent\"><img src=\"https://colab.research.google.com/assets/colab-badge.svg\" alt=\"Open In Colab\"/></a>"
      ]
    },
    {
      "cell_type": "code",
      "metadata": {
        "id": "_cUn1N-yaoa-"
      },
      "source": [
        "import os\n",
        "os.environ['TF_CPP_MIN_LOG_LEVEL'] = '2'\n",
        "\n",
        "import tensorflow as tf\n",
        "from tensorflow import keras\n",
        "import numpy as np"
      ],
      "execution_count": 1,
      "outputs": []
    },
    {
      "cell_type": "code",
      "metadata": {
        "id": "K6zXgPFuaz2a"
      },
      "source": [
        "# Define Functional Model\n",
        "inputs = keras.Input(shape=(28,28))\n",
        "flatten = keras.layers.Flatten()\n",
        "dense1 = keras.layers.Dense(128, activation='relu')\n",
        "\n",
        "dense2 = keras.layers.Dense(10, activation='softmax', name=\"category_output\")\n",
        "dense3 = keras.layers.Dense(1, activation='sigmoid', name=\"leftright_output\")"
      ],
      "execution_count": 2,
      "outputs": []
    },
    {
      "cell_type": "code",
      "metadata": {
        "id": "gmYwJDaNa2gV"
      },
      "source": [
        "x = flatten(inputs)\n",
        "x = dense1(x)\n",
        "outputs1 = dense2(x)\n",
        "outputs2 = dense3(x)\n",
        "\n",
        "model = keras.Model(inputs=inputs, outputs=[outputs1, outputs2], name=\"mnist_model\")"
      ],
      "execution_count": 3,
      "outputs": []
    },
    {
      "cell_type": "code",
      "metadata": {
        "colab": {
          "base_uri": "https://localhost:8080/"
        },
        "id": "8rcnbGvha5uH",
        "outputId": "f477684b-ffac-44dc-9cfa-033bf88d8a4b"
      },
      "source": [
        "model.summary()"
      ],
      "execution_count": 4,
      "outputs": [
        {
          "output_type": "stream",
          "text": [
            "Model: \"mnist_model\"\n",
            "__________________________________________________________________________________________________\n",
            "Layer (type)                    Output Shape         Param #     Connected to                     \n",
            "==================================================================================================\n",
            "input_1 (InputLayer)            [(None, 28, 28)]     0                                            \n",
            "__________________________________________________________________________________________________\n",
            "flatten (Flatten)               (None, 784)          0           input_1[0][0]                    \n",
            "__________________________________________________________________________________________________\n",
            "dense (Dense)                   (None, 128)          100480      flatten[0][0]                    \n",
            "__________________________________________________________________________________________________\n",
            "category_output (Dense)         (None, 10)           1290        dense[0][0]                      \n",
            "__________________________________________________________________________________________________\n",
            "leftright_output (Dense)        (None, 1)            129         dense[0][0]                      \n",
            "==================================================================================================\n",
            "Total params: 101,899\n",
            "Trainable params: 101,899\n",
            "Non-trainable params: 0\n",
            "__________________________________________________________________________________________________\n"
          ],
          "name": "stdout"
        }
      ]
    },
    {
      "cell_type": "code",
      "metadata": {
        "id": "SuTSnOyba77s"
      },
      "source": [
        "# loss and optimizer\n",
        "loss1 = keras.losses.SparseCategoricalCrossentropy(from_logits=False)\n",
        "loss2 = keras.losses.BinaryCrossentropy(from_logits=False)\n",
        "optim = keras.optimizers.Adam(lr=0.001)\n",
        "metrics = [\"accuracy\"]\n",
        "\n",
        "losses = {\n",
        "    \"category_output\": loss1,\n",
        "    \"leftright_output\": loss2,\n",
        "}\n",
        "\n",
        "model.compile(loss=losses, optimizer=optim, metrics=metrics)"
      ],
      "execution_count": 5,
      "outputs": []
    },
    {
      "cell_type": "code",
      "metadata": {
        "colab": {
          "base_uri": "https://localhost:8080/"
        },
        "id": "lMkLoI32a_NM",
        "outputId": "29fc3070-2502-4bd2-f28f-7c132fe70238"
      },
      "source": [
        "# create data with 2 labels\n",
        "mnist = keras.datasets.mnist\n",
        "(x_train, y_train), (x_test, y_test) = mnist.load_data()\n",
        "x_train, x_test = x_train / 255.0, x_test / 255.0\n",
        "\n",
        "# 0=left, 1=right\n",
        "y_leftright = np.zeros(y_train.shape, dtype=np.uint8)\n",
        "for idx, y in enumerate(y_train):\n",
        "    if y > 5:\n",
        "        y_leftright[idx] = 1\n",
        "\n",
        "print(y_train.dtype, y_train[0:20])\n",
        "print(y_leftright.dtype, y_leftright[0:20])\n",
        "\n",
        "y= {\"category_output\": y_train, \"leftright_output\": y_leftright }"
      ],
      "execution_count": 6,
      "outputs": [
        {
          "output_type": "stream",
          "text": [
            "Downloading data from https://storage.googleapis.com/tensorflow/tf-keras-datasets/mnist.npz\n",
            "11493376/11490434 [==============================] - 0s 0us/step\n",
            "uint8 [5 0 4 1 9 2 1 3 1 4 3 5 3 6 1 7 2 8 6 9]\n",
            "uint8 [0 0 0 0 1 0 0 0 0 0 0 0 0 1 0 1 0 1 1 1]\n"
          ],
          "name": "stdout"
        }
      ]
    },
    {
      "cell_type": "code",
      "metadata": {
        "colab": {
          "base_uri": "https://localhost:8080/"
        },
        "id": "IritnrclbD0K",
        "outputId": "421d9aa5-d1c1-4542-a24a-36c6104335ff"
      },
      "source": [
        "# training\n",
        "model.fit(x_train, y=y, epochs=5, batch_size=64, verbose=2)"
      ],
      "execution_count": 7,
      "outputs": [
        {
          "output_type": "stream",
          "text": [
            "Epoch 1/5\n",
            "938/938 - 2s - loss: 0.5070 - category_output_loss: 0.3072 - leftright_output_loss: 0.1998 - category_output_accuracy: 0.9153 - leftright_output_accuracy: 0.9259\n",
            "Epoch 2/5\n",
            "938/938 - 2s - loss: 0.2314 - category_output_loss: 0.1339 - leftright_output_loss: 0.0975 - category_output_accuracy: 0.9614 - leftright_output_accuracy: 0.9667\n",
            "Epoch 3/5\n",
            "938/938 - 2s - loss: 0.1680 - category_output_loss: 0.0940 - leftright_output_loss: 0.0740 - category_output_accuracy: 0.9728 - leftright_output_accuracy: 0.9749\n",
            "Epoch 4/5\n",
            "938/938 - 2s - loss: 0.1329 - category_output_loss: 0.0725 - leftright_output_loss: 0.0604 - category_output_accuracy: 0.9789 - leftright_output_accuracy: 0.9795\n",
            "Epoch 5/5\n",
            "938/938 - 2s - loss: 0.1104 - category_output_loss: 0.0591 - leftright_output_loss: 0.0512 - category_output_accuracy: 0.9825 - leftright_output_accuracy: 0.9830\n"
          ],
          "name": "stdout"
        },
        {
          "output_type": "execute_result",
          "data": {
            "text/plain": [
              "<tensorflow.python.keras.callbacks.History at 0x7fe3004d3438>"
            ]
          },
          "metadata": {
            "tags": []
          },
          "execution_count": 7
        }
      ]
    },
    {
      "cell_type": "code",
      "metadata": {
        "colab": {
          "base_uri": "https://localhost:8080/"
        },
        "id": "iFyd-X1WbIMQ",
        "outputId": "a09ad5dd-3cfc-45e2-ea5a-0653988c96dc"
      },
      "source": [
        "# list with 2 predictions\n",
        "predictions = model.predict(x_test)\n",
        "len(predictions)"
      ],
      "execution_count": 8,
      "outputs": [
        {
          "output_type": "execute_result",
          "data": {
            "text/plain": [
              "2"
            ]
          },
          "metadata": {
            "tags": []
          },
          "execution_count": 8
        }
      ]
    },
    {
      "cell_type": "code",
      "metadata": {
        "id": "6diyRm_tbIOr"
      },
      "source": [
        "prediction_category = predictions[0]\n",
        "prediction_lr = predictions[1]\n",
        "\n",
        "pr_cat = prediction_category[0:20]\n",
        "prediction_lr = prediction_lr[0:20]\n",
        "\n",
        "labels_cat = np.argmax(pr_cat, axis=1)\n",
        "labels_lr = np.array([1 if p >= 0.5 else 0 for p in prediction_lr])"
      ],
      "execution_count": 10,
      "outputs": []
    },
    {
      "cell_type": "code",
      "metadata": {
        "id": "bXg01JZ1bQPr",
        "outputId": "b05f9018-fa81-4f22-9287-dfd703fc7bea",
        "colab": {
          "base_uri": "https://localhost:8080/"
        }
      },
      "source": [
        "print(y_test[0:20])\n",
        "print(labels_cat)\n",
        "print(labels_lr)"
      ],
      "execution_count": 11,
      "outputs": [
        {
          "output_type": "stream",
          "text": [
            "[7 2 1 0 4 1 4 9 5 9 0 6 9 0 1 5 9 7 3 4]\n",
            "[7 2 1 0 4 1 4 9 5 9 0 6 9 0 1 5 9 7 3 4]\n",
            "[1 0 0 0 0 0 0 1 1 1 0 1 1 0 0 0 1 1 0 0]\n"
          ],
          "name": "stdout"
        }
      ]
    }
  ]
}