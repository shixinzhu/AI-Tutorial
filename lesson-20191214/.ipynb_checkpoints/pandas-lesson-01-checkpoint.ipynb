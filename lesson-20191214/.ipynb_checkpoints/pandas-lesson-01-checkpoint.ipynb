{
 "cells": [
  {
   "cell_type": "code",
   "execution_count": 1,
   "metadata": {},
   "outputs": [],
   "source": [
    "## Core components of pandas: Series and DataFrames"
   ]
  },
  {
   "cell_type": "code",
   "execution_count": 2,
   "metadata": {},
   "outputs": [],
   "source": [
    "# pip install pandas\n",
    "\n",
    "import numpy as np\n",
    "import pandas as pd"
   ]
  },
  {
   "cell_type": "code",
   "execution_count": 3,
   "metadata": {},
   "outputs": [
    {
     "name": "stdout",
     "output_type": "stream",
     "text": [
      "0    1.0\n",
      "1    2.0\n",
      "2    3.0\n",
      "3    NaN\n",
      "4    5.0\n",
      "5    6.0\n",
      "dtype: float64\n"
     ]
    }
   ],
   "source": [
    "s=pd.Series([1, 2, 3, np.nan, 5, 6])\n",
    "print(s)"
   ]
  },
  {
   "cell_type": "code",
   "execution_count": 4,
   "metadata": {},
   "outputs": [],
   "source": [
    "## DataFrame是表格型数据结构，包含一组有序的列，每列可以是不同的值类型。DataFrame有行索引和列索引，可以看成由Series组成的字典。"
   ]
  },
  {
   "cell_type": "code",
   "execution_count": 5,
   "metadata": {},
   "outputs": [
    {
     "name": "stdout",
     "output_type": "stream",
     "text": [
      "                   A         B         C         D\n",
      "2018-03-10 -0.456628 -1.202588 -0.671037 -0.423031\n",
      "2018-03-11 -1.699763  0.077146 -0.311689 -0.813590\n",
      "2018-03-12  0.130622  0.475777 -1.263723 -0.266705\n",
      "2018-03-13 -0.294664  1.446635  0.523886 -0.133043\n",
      "2018-03-14 -0.979551  1.600281 -0.478900  0.595263\n",
      "2018-03-15 -1.492084  1.019039 -0.701272 -0.712413\n"
     ]
    }
   ],
   "source": [
    "dates = pd.date_range('20180310', periods=6)  # index \n",
    "#生成6行4列 的数据\n",
    "df = pd.DataFrame(np.random.randn(6,4), index=dates, columns=['A','B','C','D']) \n",
    "print(df)"
   ]
  },
  {
   "cell_type": "code",
   "execution_count": 6,
   "metadata": {},
   "outputs": [
    {
     "name": "stdout",
     "output_type": "stream",
     "text": [
      "2018-03-10   -1.202588\n",
      "2018-03-11    0.077146\n",
      "2018-03-12    0.475777\n",
      "2018-03-13    1.446635\n",
      "2018-03-14    1.600281\n",
      "2018-03-15    1.019039\n",
      "Freq: D, Name: B, dtype: float64\n"
     ]
    }
   ],
   "source": [
    "print(df['B'])"
   ]
  },
  {
   "cell_type": "code",
   "execution_count": 7,
   "metadata": {},
   "outputs": [
    {
     "name": "stdout",
     "output_type": "stream",
     "text": [
      "2018-03-10   -0.423031\n",
      "2018-03-11   -0.813590\n",
      "2018-03-12   -0.266705\n",
      "2018-03-13   -0.133043\n",
      "2018-03-14    0.595263\n",
      "2018-03-15   -0.712413\n",
      "Freq: D, Name: D, dtype: float64\n"
     ]
    }
   ],
   "source": [
    "print(df['D'])"
   ]
  },
  {
   "cell_type": "code",
   "execution_count": 11,
   "metadata": {},
   "outputs": [
    {
     "name": "stdout",
     "output_type": "stream",
     "text": [
      "     A          B    C  D      E    F\n",
      "0  1.0 2018-03-10  1.0  3   test  foo\n",
      "1  1.0 2018-03-10  1.0  3  train  foo\n",
      "2  1.0 2018-03-10  1.0  3   test  foo\n",
      "3  1.0 2018-03-10  1.0  3  train  foo\n",
      "4  1.0 2018-03-10  1.0  3      A  foo\n",
      "5  1.0 2018-03-10  1.0  3      B  foo\n",
      "6  1.0 2018-03-10  1.0  3      C  foo\n",
      "7  1.0 2018-03-10  1.0  3      D  foo\n"
     ]
    }
   ],
   "source": [
    "#创建特定数据的DataFrame\n",
    "df_1=pd.DataFrame({'A' : 1.,\n",
    "                    'B' : pd.Timestamp('20180310'),\n",
    "                    'C' : pd.Series(1,index=list(range(8)),dtype='float32'),\n",
    "                    'D' : np.array([3] * 8,dtype='int32'),\n",
    "                    'E' : pd.Categorical([\"test\",\"train\",\"test\",\"train\", \"A\", \"B\", \"C\", \"D\"]),\n",
    "                    'F' : 'foo'\n",
    "                    })\n",
    "print(df_1)"
   ]
  },
  {
   "cell_type": "code",
   "execution_count": null,
   "metadata": {},
   "outputs": [],
   "source": []
  }
 ],
 "metadata": {
  "kernelspec": {
   "display_name": "Python 3",
   "language": "python",
   "name": "python3"
  },
  "language_info": {
   "codemirror_mode": {
    "name": "ipython",
    "version": 3
   },
   "file_extension": ".py",
   "mimetype": "text/x-python",
   "name": "python",
   "nbconvert_exporter": "python",
   "pygments_lexer": "ipython3",
   "version": "3.7.4"
  }
 },
 "nbformat": 4,
 "nbformat_minor": 2
}
