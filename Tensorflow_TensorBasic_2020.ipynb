{
  "nbformat": 4,
  "nbformat_minor": 0,
  "metadata": {
    "colab": {
      "name": "Tensorflow-TensorBasic-2020.ipynb",
      "provenance": [],
      "collapsed_sections": [],
      "authorship_tag": "ABX9TyPgiWlr5ikPtxyTnQ+WM85W",
      "include_colab_link": true
    },
    "kernelspec": {
      "name": "python3",
      "display_name": "Python 3"
    }
  },
  "cells": [
    {
      "cell_type": "markdown",
      "metadata": {
        "id": "view-in-github",
        "colab_type": "text"
      },
      "source": [
        "<a href=\"https://colab.research.google.com/github/shixinzhu/DL-GoogleColab-2020/blob/master/Tensorflow_TensorBasic_2020.ipynb\" target=\"_parent\"><img src=\"https://colab.research.google.com/assets/colab-badge.svg\" alt=\"Open In Colab\"/></a>"
      ]
    },
    {
      "cell_type": "code",
      "metadata": {
        "id": "2xf7xoeIKwKJ",
        "colab": {
          "base_uri": "https://localhost:8080/"
        },
        "outputId": "b43cf9cb-fa67-492f-a9fe-451bfbe7733f"
      },
      "source": [
        "import os\n",
        "os.environ[\"TF_CPP_MIN_LOG_LEVEL\"]=\"2\"\n",
        "\n",
        "import tensorflow as tf\n",
        "print(tf.__version__)"
      ],
      "execution_count": 6,
      "outputs": [
        {
          "output_type": "stream",
          "text": [
            "2.3.1\n"
          ],
          "name": "stdout"
        }
      ]
    },
    {
      "cell_type": "code",
      "metadata": {
        "colab": {
          "base_uri": "https://localhost:8080/"
        },
        "id": "ijjBJfzKOQjh",
        "outputId": "df576528-4048-43e9-f370-450a96beb469"
      },
      "source": [
        "!pip install tensorflow-gpu"
      ],
      "execution_count": 3,
      "outputs": [
        {
          "output_type": "stream",
          "text": [
            "Requirement already satisfied: tensorflow-gpu in /usr/local/lib/python3.6/dist-packages (2.3.1)\n",
            "Requirement already satisfied: absl-py>=0.7.0 in /usr/local/lib/python3.6/dist-packages (from tensorflow-gpu) (0.10.0)\n",
            "Requirement already satisfied: six>=1.12.0 in /usr/local/lib/python3.6/dist-packages (from tensorflow-gpu) (1.15.0)\n",
            "Requirement already satisfied: h5py<2.11.0,>=2.10.0 in /usr/local/lib/python3.6/dist-packages (from tensorflow-gpu) (2.10.0)\n",
            "Requirement already satisfied: google-pasta>=0.1.8 in /usr/local/lib/python3.6/dist-packages (from tensorflow-gpu) (0.2.0)\n",
            "Requirement already satisfied: astunparse==1.6.3 in /usr/local/lib/python3.6/dist-packages (from tensorflow-gpu) (1.6.3)\n",
            "Requirement already satisfied: keras-preprocessing<1.2,>=1.1.1 in /usr/local/lib/python3.6/dist-packages (from tensorflow-gpu) (1.1.2)\n",
            "Requirement already satisfied: gast==0.3.3 in /usr/local/lib/python3.6/dist-packages (from tensorflow-gpu) (0.3.3)\n",
            "Requirement already satisfied: protobuf>=3.9.2 in /usr/local/lib/python3.6/dist-packages (from tensorflow-gpu) (3.12.4)\n",
            "Requirement already satisfied: termcolor>=1.1.0 in /usr/local/lib/python3.6/dist-packages (from tensorflow-gpu) (1.1.0)\n",
            "Requirement already satisfied: wrapt>=1.11.1 in /usr/local/lib/python3.6/dist-packages (from tensorflow-gpu) (1.12.1)\n",
            "Requirement already satisfied: wheel>=0.26 in /usr/local/lib/python3.6/dist-packages (from tensorflow-gpu) (0.35.1)\n",
            "Requirement already satisfied: opt-einsum>=2.3.2 in /usr/local/lib/python3.6/dist-packages (from tensorflow-gpu) (3.3.0)\n",
            "Requirement already satisfied: grpcio>=1.8.6 in /usr/local/lib/python3.6/dist-packages (from tensorflow-gpu) (1.33.2)\n",
            "Requirement already satisfied: numpy<1.19.0,>=1.16.0 in /usr/local/lib/python3.6/dist-packages (from tensorflow-gpu) (1.18.5)\n",
            "Requirement already satisfied: tensorflow-estimator<2.4.0,>=2.3.0 in /usr/local/lib/python3.6/dist-packages (from tensorflow-gpu) (2.3.0)\n",
            "Requirement already satisfied: tensorboard<3,>=2.3.0 in /usr/local/lib/python3.6/dist-packages (from tensorflow-gpu) (2.3.0)\n",
            "Requirement already satisfied: setuptools in /usr/local/lib/python3.6/dist-packages (from protobuf>=3.9.2->tensorflow-gpu) (50.3.2)\n",
            "Requirement already satisfied: google-auth<2,>=1.6.3 in /usr/local/lib/python3.6/dist-packages (from tensorboard<3,>=2.3.0->tensorflow-gpu) (1.17.2)\n",
            "Requirement already satisfied: markdown>=2.6.8 in /usr/local/lib/python3.6/dist-packages (from tensorboard<3,>=2.3.0->tensorflow-gpu) (3.3.3)\n",
            "Requirement already satisfied: werkzeug>=0.11.15 in /usr/local/lib/python3.6/dist-packages (from tensorboard<3,>=2.3.0->tensorflow-gpu) (1.0.1)\n",
            "Requirement already satisfied: google-auth-oauthlib<0.5,>=0.4.1 in /usr/local/lib/python3.6/dist-packages (from tensorboard<3,>=2.3.0->tensorflow-gpu) (0.4.2)\n",
            "Requirement already satisfied: tensorboard-plugin-wit>=1.6.0 in /usr/local/lib/python3.6/dist-packages (from tensorboard<3,>=2.3.0->tensorflow-gpu) (1.7.0)\n",
            "Requirement already satisfied: requests<3,>=2.21.0 in /usr/local/lib/python3.6/dist-packages (from tensorboard<3,>=2.3.0->tensorflow-gpu) (2.23.0)\n",
            "Requirement already satisfied: pyasn1-modules>=0.2.1 in /usr/local/lib/python3.6/dist-packages (from google-auth<2,>=1.6.3->tensorboard<3,>=2.3.0->tensorflow-gpu) (0.2.8)\n",
            "Requirement already satisfied: cachetools<5.0,>=2.0.0 in /usr/local/lib/python3.6/dist-packages (from google-auth<2,>=1.6.3->tensorboard<3,>=2.3.0->tensorflow-gpu) (4.1.1)\n",
            "Requirement already satisfied: rsa<5,>=3.1.4; python_version >= \"3\" in /usr/local/lib/python3.6/dist-packages (from google-auth<2,>=1.6.3->tensorboard<3,>=2.3.0->tensorflow-gpu) (4.6)\n",
            "Requirement already satisfied: importlib-metadata; python_version < \"3.8\" in /usr/local/lib/python3.6/dist-packages (from markdown>=2.6.8->tensorboard<3,>=2.3.0->tensorflow-gpu) (2.0.0)\n",
            "Requirement already satisfied: requests-oauthlib>=0.7.0 in /usr/local/lib/python3.6/dist-packages (from google-auth-oauthlib<0.5,>=0.4.1->tensorboard<3,>=2.3.0->tensorflow-gpu) (1.3.0)\n",
            "Requirement already satisfied: idna<3,>=2.5 in /usr/local/lib/python3.6/dist-packages (from requests<3,>=2.21.0->tensorboard<3,>=2.3.0->tensorflow-gpu) (2.10)\n",
            "Requirement already satisfied: certifi>=2017.4.17 in /usr/local/lib/python3.6/dist-packages (from requests<3,>=2.21.0->tensorboard<3,>=2.3.0->tensorflow-gpu) (2020.11.8)\n",
            "Requirement already satisfied: urllib3!=1.25.0,!=1.25.1,<1.26,>=1.21.1 in /usr/local/lib/python3.6/dist-packages (from requests<3,>=2.21.0->tensorboard<3,>=2.3.0->tensorflow-gpu) (1.24.3)\n",
            "Requirement already satisfied: chardet<4,>=3.0.2 in /usr/local/lib/python3.6/dist-packages (from requests<3,>=2.21.0->tensorboard<3,>=2.3.0->tensorflow-gpu) (3.0.4)\n",
            "Requirement already satisfied: pyasn1<0.5.0,>=0.4.6 in /usr/local/lib/python3.6/dist-packages (from pyasn1-modules>=0.2.1->google-auth<2,>=1.6.3->tensorboard<3,>=2.3.0->tensorflow-gpu) (0.4.8)\n",
            "Requirement already satisfied: zipp>=0.5 in /usr/local/lib/python3.6/dist-packages (from importlib-metadata; python_version < \"3.8\"->markdown>=2.6.8->tensorboard<3,>=2.3.0->tensorflow-gpu) (3.4.0)\n",
            "Requirement already satisfied: oauthlib>=3.0.0 in /usr/local/lib/python3.6/dist-packages (from requests-oauthlib>=0.7.0->google-auth-oauthlib<0.5,>=0.4.1->tensorboard<3,>=2.3.0->tensorflow-gpu) (3.1.0)\n"
          ],
          "name": "stdout"
        }
      ]
    },
    {
      "cell_type": "code",
      "metadata": {
        "id": "NeTTdE2zPrIQ"
      },
      "source": [
        "physical_devices = tf.config.list_physical_devices(\"GPU\")"
      ],
      "execution_count": 5,
      "outputs": []
    },
    {
      "cell_type": "code",
      "metadata": {
        "colab": {
          "base_uri": "https://localhost:8080/"
        },
        "id": "mcf_q7WdQjMF",
        "outputId": "7f913349-3e15-4895-93d6-431f5ed46c59"
      },
      "source": [
        "x1 = tf.constant(4)\n",
        "print(x1)"
      ],
      "execution_count": 8,
      "outputs": [
        {
          "output_type": "stream",
          "text": [
            "tf.Tensor(4, shape=(), dtype=int32)\n"
          ],
          "name": "stdout"
        }
      ]
    },
    {
      "cell_type": "code",
      "metadata": {
        "colab": {
          "base_uri": "https://localhost:8080/"
        },
        "id": "GySYa6SlQ2aT",
        "outputId": "2a6a3206-b39b-4a16-8005-fb46b4a276a5"
      },
      "source": [
        "x2 = tf.constant(4, shape=(1, 1))\n",
        "print(x2)"
      ],
      "execution_count": 9,
      "outputs": [
        {
          "output_type": "stream",
          "text": [
            "tf.Tensor([[4]], shape=(1, 1), dtype=int32)\n"
          ],
          "name": "stdout"
        }
      ]
    },
    {
      "cell_type": "code",
      "metadata": {
        "colab": {
          "base_uri": "https://localhost:8080/"
        },
        "id": "fUqB86-xQ_UC",
        "outputId": "9c17a678-02c9-4f2b-9372-67d08e4616ee"
      },
      "source": [
        "x3 = tf.constant(4, shape=(1, 1), dtype=tf.float32)\n",
        "print(x3)"
      ],
      "execution_count": 10,
      "outputs": [
        {
          "output_type": "stream",
          "text": [
            "tf.Tensor([[4.]], shape=(1, 1), dtype=float32)\n"
          ],
          "name": "stdout"
        }
      ]
    },
    {
      "cell_type": "code",
      "metadata": {
        "colab": {
          "base_uri": "https://localhost:8080/"
        },
        "id": "V9eStoSORN0u",
        "outputId": "5a097ea6-1330-4290-87de-d55e8086dc96"
      },
      "source": [
        "x4 = tf.constant(1, 2, 3)\n",
        "print(x4)"
      ],
      "execution_count": 12,
      "outputs": [
        {
          "output_type": "stream",
          "text": [
            "tf.Tensor([1. 1. 1.], shape=(3,), dtype=float64)\n"
          ],
          "name": "stdout"
        }
      ]
    },
    {
      "cell_type": "code",
      "metadata": {
        "colab": {
          "base_uri": "https://localhost:8080/"
        },
        "id": "WtxNiy7NRXLw",
        "outputId": "fe93c124-6c4c-48f3-f78a-6459b623b154"
      },
      "source": [
        "x5 = tf.constant([[1, 2, 3], [4, 5, 6]])\n",
        "print(x5)"
      ],
      "execution_count": 13,
      "outputs": [
        {
          "output_type": "stream",
          "text": [
            "tf.Tensor(\n",
            "[[1 2 3]\n",
            " [4 5 6]], shape=(2, 3), dtype=int32)\n"
          ],
          "name": "stdout"
        }
      ]
    },
    {
      "cell_type": "code",
      "metadata": {
        "colab": {
          "base_uri": "https://localhost:8080/"
        },
        "id": "BZdRsMs_RqYB",
        "outputId": "641e4b49-0550-443b-8865-a970a930dda7"
      },
      "source": [
        "x6 = tf.ones((3, 3))\n",
        "print(x6)"
      ],
      "execution_count": 14,
      "outputs": [
        {
          "output_type": "stream",
          "text": [
            "tf.Tensor(\n",
            "[[1. 1. 1.]\n",
            " [1. 1. 1.]\n",
            " [1. 1. 1.]], shape=(3, 3), dtype=float32)\n"
          ],
          "name": "stdout"
        }
      ]
    },
    {
      "cell_type": "code",
      "metadata": {
        "colab": {
          "base_uri": "https://localhost:8080/"
        },
        "id": "0x_pNhdWR7Fb",
        "outputId": "816bc114-12dd-4168-fe37-d814bca9e73b"
      },
      "source": [
        "x7 = tf.zeros((3, 3))\n",
        "print(x7)"
      ],
      "execution_count": 15,
      "outputs": [
        {
          "output_type": "stream",
          "text": [
            "tf.Tensor(\n",
            "[[0. 0. 0.]\n",
            " [0. 0. 0.]\n",
            " [0. 0. 0.]], shape=(3, 3), dtype=float32)\n"
          ],
          "name": "stdout"
        }
      ]
    },
    {
      "cell_type": "code",
      "metadata": {
        "colab": {
          "base_uri": "https://localhost:8080/"
        },
        "id": "PDwBi_cTSBTY",
        "outputId": "25749d42-15d9-43b7-db4f-ef29323ac2c3"
      },
      "source": [
        "x8 = tf.eye(3)\n",
        "print(x8)"
      ],
      "execution_count": 16,
      "outputs": [
        {
          "output_type": "stream",
          "text": [
            "tf.Tensor(\n",
            "[[1. 0. 0.]\n",
            " [0. 1. 0.]\n",
            " [0. 0. 1.]], shape=(3, 3), dtype=float32)\n"
          ],
          "name": "stdout"
        }
      ]
    },
    {
      "cell_type": "code",
      "metadata": {
        "colab": {
          "base_uri": "https://localhost:8080/"
        },
        "id": "HEzMxIGISIvh",
        "outputId": "3970e519-e8cc-472f-e1f1-22851d8245c8"
      },
      "source": [
        "x9 = tf.random.normal((3, 3), mean=0, stddev=1)\n",
        "print(x9)"
      ],
      "execution_count": 17,
      "outputs": [
        {
          "output_type": "stream",
          "text": [
            "tf.Tensor(\n",
            "[[ 0.59796685 -0.6319406   0.48407108]\n",
            " [ 0.5514735  -1.8403983  -0.43020806]\n",
            " [-2.1463203  -1.3888949  -0.43286723]], shape=(3, 3), dtype=float32)\n"
          ],
          "name": "stdout"
        }
      ]
    },
    {
      "cell_type": "code",
      "metadata": {
        "colab": {
          "base_uri": "https://localhost:8080/"
        },
        "id": "GwbvAo6MSZro",
        "outputId": "a4efc810-1613-4235-826a-2d02c478a98a"
      },
      "source": [
        "x10 = tf.random.uniform((3, 3), minval=0, maxval=1)\n",
        "print(x10)"
      ],
      "execution_count": 18,
      "outputs": [
        {
          "output_type": "stream",
          "text": [
            "tf.Tensor(\n",
            "[[1.3864613e-01 3.8570714e-01 6.0349357e-01]\n",
            " [4.2163622e-01 2.0749366e-01 6.5891504e-01]\n",
            " [4.0376186e-04 6.2324405e-01 6.0876560e-01]], shape=(3, 3), dtype=float32)\n"
          ],
          "name": "stdout"
        }
      ]
    },
    {
      "cell_type": "code",
      "metadata": {
        "colab": {
          "base_uri": "https://localhost:8080/"
        },
        "id": "VX0ish_XSpBr",
        "outputId": "ebcb0b81-8502-4739-99e6-0afc6586edcd"
      },
      "source": [
        "x11 = tf.range(10)\n",
        "print(x11)"
      ],
      "execution_count": 19,
      "outputs": [
        {
          "output_type": "stream",
          "text": [
            "tf.Tensor([0 1 2 3 4 5 6 7 8 9], shape=(10,), dtype=int32)\n"
          ],
          "name": "stdout"
        }
      ]
    },
    {
      "cell_type": "code",
      "metadata": {
        "colab": {
          "base_uri": "https://localhost:8080/"
        },
        "id": "FwbvLZk7SySe",
        "outputId": "a108b88a-78fa-4abc-cdc4-5525086541b5"
      },
      "source": [
        "## cast\n",
        "y = tf.cast(x11, dtype=tf.float32)\n",
        "print(y)"
      ],
      "execution_count": 20,
      "outputs": [
        {
          "output_type": "stream",
          "text": [
            "tf.Tensor([0. 1. 2. 3. 4. 5. 6. 7. 8. 9.], shape=(10,), dtype=float32)\n"
          ],
          "name": "stdout"
        }
      ]
    },
    {
      "cell_type": "code",
      "metadata": {
        "colab": {
          "base_uri": "https://localhost:8080/"
        },
        "id": "x6Bm0c8ZTA10",
        "outputId": "7e1cb985-1605-4043-e0b1-6c82838873d9"
      },
      "source": [
        "## elementwise\n",
        "\n",
        "x21 = tf.constant([1, 2, 3])\n",
        "y21 = tf.constant([4, 5, 6])\n",
        "\n",
        "z21 = tf.add(x21, y21)\n",
        "print(z21)"
      ],
      "execution_count": 22,
      "outputs": [
        {
          "output_type": "stream",
          "text": [
            "tf.Tensor([5 7 9], shape=(3,), dtype=int32)\n"
          ],
          "name": "stdout"
        }
      ]
    },
    {
      "cell_type": "code",
      "metadata": {
        "colab": {
          "base_uri": "https://localhost:8080/"
        },
        "id": "MTOTnD8BTbtx",
        "outputId": "e3b6c658-bef5-424b-adad-5284d8737bbe"
      },
      "source": [
        "## elementwise\n",
        "\n",
        "x22 = tf.constant([1, 2, 3])\n",
        "y22 = tf.constant([4, 5, 6])\n",
        "\n",
        "z22 = tf.subtract(x, y)\n",
        "print(z22)\n",
        "\n",
        "z202 = x22 - y22\n",
        "print(z202)"
      ],
      "execution_count": 25,
      "outputs": [
        {
          "output_type": "stream",
          "text": [
            "tf.Tensor([-3 -3 -3], shape=(3,), dtype=int32)\n",
            "tf.Tensor([-3 -3 -3], shape=(3,), dtype=int32)\n"
          ],
          "name": "stdout"
        }
      ]
    },
    {
      "cell_type": "code",
      "metadata": {
        "colab": {
          "base_uri": "https://localhost:8080/"
        },
        "id": "moddfGhqUAT2",
        "outputId": "5cc85c48-959e-4bc0-e97a-67de4756fc9e"
      },
      "source": [
        "## elementwise\n",
        "\n",
        "x23 = tf.constant([1, 2, 3])\n",
        "y23 = tf.constant([4, 5, 6])\n",
        "\n",
        "z23 = tf.divide(x23, y23)\n",
        "print(z23)\n",
        "\n",
        "z203 = x23 / y23\n",
        "print(z203)"
      ],
      "execution_count": 27,
      "outputs": [
        {
          "output_type": "stream",
          "text": [
            "tf.Tensor([0.25 0.4  0.5 ], shape=(3,), dtype=float64)\n",
            "tf.Tensor([0.25 0.4  0.5 ], shape=(3,), dtype=float64)\n"
          ],
          "name": "stdout"
        }
      ]
    },
    {
      "cell_type": "code",
      "metadata": {
        "colab": {
          "base_uri": "https://localhost:8080/"
        },
        "id": "7xmnrzuhU-1T",
        "outputId": "55498138-5d16-45cf-a1a7-b9fe728a6859"
      },
      "source": [
        "## elementwise\n",
        "\n",
        "x24 = tf.constant([1, 2, 3])\n",
        "y24 = tf.constant([4, 5, 6])\n",
        "\n",
        "z24 = tf.multiply(x24, y24)\n",
        "print(z24)\n",
        "\n",
        "z204 = x24 * y24\n",
        "print(z204)"
      ],
      "execution_count": 29,
      "outputs": [
        {
          "output_type": "stream",
          "text": [
            "tf.Tensor([ 4 10 18], shape=(3,), dtype=int32)\n",
            "tf.Tensor([ 4 10 18], shape=(3,), dtype=int32)\n"
          ],
          "name": "stdout"
        }
      ]
    },
    {
      "cell_type": "code",
      "metadata": {
        "colab": {
          "base_uri": "https://localhost:8080/"
        },
        "id": "qrdF9Td9VT9U",
        "outputId": "46616db6-a10c-4d2b-ceac-c23d2b394ce4"
      },
      "source": [
        "## elementwise\n",
        "\n",
        "x25 = tf.constant([1, 2, 3])\n",
        "y25 = tf.constant([4, 5, 6])\n",
        "\n",
        "z25 = tf.tensordot(x25, y25, axes=1)\n",
        "print(z25)"
      ],
      "execution_count": 30,
      "outputs": [
        {
          "output_type": "stream",
          "text": [
            "tf.Tensor(32, shape=(), dtype=int32)\n"
          ],
          "name": "stdout"
        }
      ]
    },
    {
      "cell_type": "code",
      "metadata": {
        "colab": {
          "base_uri": "https://localhost:8080/"
        },
        "id": "y9smT-dhVoTg",
        "outputId": "ea264fa1-fa24-4cf6-c03e-bf91025ae998"
      },
      "source": [
        "## elementwise\n",
        "\n",
        "x26 = tf.constant([1, 2, 3])\n",
        "y26 = tf.constant([4, 5, 6])\n",
        "\n",
        "z26 = x26 ** 3\n",
        "print(z26)"
      ],
      "execution_count": 31,
      "outputs": [
        {
          "output_type": "stream",
          "text": [
            "tf.Tensor([ 1  8 27], shape=(3,), dtype=int32)\n"
          ],
          "name": "stdout"
        }
      ]
    },
    {
      "cell_type": "code",
      "metadata": {
        "colab": {
          "base_uri": "https://localhost:8080/"
        },
        "id": "dXgrRrH_WvxW",
        "outputId": "6ec6f5ae-e476-48c3-d12e-86e18437c289"
      },
      "source": [
        "## elementwise\n",
        "\n",
        "x27 = tf.random.normal([2, 2])\n",
        "print(x27)\n",
        "y27 = tf.random.normal([2, 2])\n",
        "\n",
        "z27 = tf.matmul(x27, y27)\n",
        "print(z27)"
      ],
      "execution_count": 34,
      "outputs": [
        {
          "output_type": "stream",
          "text": [
            "tf.Tensor(\n",
            "[[-1.7505895   0.73593473]\n",
            " [-1.1438898  -1.2281346 ]], shape=(2, 2), dtype=float32)\n",
            "tf.Tensor(\n",
            "[[-2.296072    0.14528531]\n",
            " [ 1.1257079  -1.3028566 ]], shape=(2, 2), dtype=float32)\n"
          ],
          "name": "stdout"
        }
      ]
    },
    {
      "cell_type": "code",
      "metadata": {
        "colab": {
          "base_uri": "https://localhost:8080/"
        },
        "id": "OKA8b15iXd64",
        "outputId": "30978e36-5b52-4c58-b5b0-b60da8f0535a"
      },
      "source": [
        "## elementwise\n",
        "\n",
        "x28 = tf.random.normal([2, 5])\n",
        "y28 = tf.random.normal([5, 7])\n",
        "\n",
        "z28 = tf.matmul(x28, y28)\n",
        "z28 = x28 @ y28\n",
        "print(z28)"
      ],
      "execution_count": 37,
      "outputs": [
        {
          "output_type": "stream",
          "text": [
            "tf.Tensor(\n",
            "[[ 2.4699199e+00  5.9413016e-01 -1.0791053e+00 -6.4201057e-02\n",
            "   3.0384704e-01 -1.0749230e+00 -3.2549069e+00]\n",
            " [-2.2417138e+00 -3.9605856e+00 -3.4161869e-01 -2.0679832e-04\n",
            "  -4.1794187e-01 -3.3378260e+00 -2.9295096e+00]], shape=(2, 7), dtype=float32)\n"
          ],
          "name": "stdout"
        }
      ]
    },
    {
      "cell_type": "code",
      "metadata": {
        "colab": {
          "base_uri": "https://localhost:8080/"
        },
        "id": "U4Gas0O1YB4R",
        "outputId": "3787bede-7e9f-4e40-fc41-416fe652d5fd"
      },
      "source": [
        "## slicing, indexing\n",
        "x31 = tf.constant([[1, 2, 3, 4], [5, 6, 7, 8]])\n",
        "\n",
        "print(x31[:, 0])"
      ],
      "execution_count": 38,
      "outputs": [
        {
          "output_type": "stream",
          "text": [
            "tf.Tensor([1 5], shape=(2,), dtype=int32)\n"
          ],
          "name": "stdout"
        }
      ]
    },
    {
      "cell_type": "code",
      "metadata": {
        "colab": {
          "base_uri": "https://localhost:8080/"
        },
        "id": "GYU4J9pyYlt9",
        "outputId": "dca034f7-cd59-4d53-ba03-8d4f0326cd6c"
      },
      "source": [
        "## slicing, indexing\n",
        "x32 = tf.constant([[1, 2, 3, 4], [5, 6, 7, 8]])\n",
        "\n",
        "print(x32[0, :])"
      ],
      "execution_count": 40,
      "outputs": [
        {
          "output_type": "stream",
          "text": [
            "tf.Tensor([1 2 3 4], shape=(4,), dtype=int32)\n"
          ],
          "name": "stdout"
        }
      ]
    },
    {
      "cell_type": "code",
      "metadata": {
        "colab": {
          "base_uri": "https://localhost:8080/"
        },
        "id": "MQcnNFdIZArD",
        "outputId": "840d245c-df75-4368-a9b7-635ee873f8c3"
      },
      "source": [
        "## slicing, indexing\n",
        "x33 = tf.constant([[1, 2, 3, 4], [5, 6, 7, 8]])\n",
        "\n",
        "print(x33[0, 0])"
      ],
      "execution_count": 41,
      "outputs": [
        {
          "output_type": "stream",
          "text": [
            "tf.Tensor(1, shape=(), dtype=int32)\n"
          ],
          "name": "stdout"
        }
      ]
    },
    {
      "cell_type": "code",
      "metadata": {
        "colab": {
          "base_uri": "https://localhost:8080/"
        },
        "id": "-uuah2-AZah5",
        "outputId": "33890154-dd7f-44d2-ba6e-d0bd8033e567"
      },
      "source": [
        "## slicing, indexing\n",
        "x34 = tf.constant([[1, 2, 3, 4], [5, 6, 7, 8]])\n",
        "\n",
        "print(x34[0, 1:3])"
      ],
      "execution_count": 42,
      "outputs": [
        {
          "output_type": "stream",
          "text": [
            "tf.Tensor([2 3], shape=(2,), dtype=int32)\n"
          ],
          "name": "stdout"
        }
      ]
    },
    {
      "cell_type": "code",
      "metadata": {
        "colab": {
          "base_uri": "https://localhost:8080/"
        },
        "id": "akpIN_3cZ6er",
        "outputId": "2b7f6bce-db66-4876-d1d9-3d804a0f01b6"
      },
      "source": [
        "## reshape\n",
        "x41 = tf.random.normal((2, 3))\n",
        "print(x41)\n",
        "\n",
        "x42 = tf.reshape(x41, (3, 2))\n",
        "print(x42)"
      ],
      "execution_count": 44,
      "outputs": [
        {
          "output_type": "stream",
          "text": [
            "tf.Tensor(\n",
            "[[-0.4894122   1.4156266  -1.6029876 ]\n",
            " [ 0.20922379  0.9120157  -1.1140751 ]], shape=(2, 3), dtype=float32)\n",
            "tf.Tensor(\n",
            "[[-0.4894122   1.4156266 ]\n",
            " [-1.6029876   0.20922379]\n",
            " [ 0.9120157  -1.1140751 ]], shape=(3, 2), dtype=float32)\n"
          ],
          "name": "stdout"
        }
      ]
    },
    {
      "cell_type": "code",
      "metadata": {
        "colab": {
          "base_uri": "https://localhost:8080/"
        },
        "id": "RAdzdb2masDK",
        "outputId": "34d46676-27ac-4b50-90e3-0556e48c5d82"
      },
      "source": [
        "## reshape\n",
        "x43 = tf.random.normal((2, 3))\n",
        "\n",
        "x44 = tf.reshape(x41, (6))\n",
        "print(x44)\n",
        "\n",
        "x45 = tf.reshape(x41, (-1, 2))\n",
        "print(x45)"
      ],
      "execution_count": 47,
      "outputs": [
        {
          "output_type": "stream",
          "text": [
            "tf.Tensor([-0.4894122   1.4156266  -1.6029876   0.20922379  0.9120157  -1.1140751 ], shape=(6,), dtype=float32)\n",
            "tf.Tensor(\n",
            "[[-0.4894122   1.4156266 ]\n",
            " [-1.6029876   0.20922379]\n",
            " [ 0.9120157  -1.1140751 ]], shape=(3, 2), dtype=float32)\n"
          ],
          "name": "stdout"
        }
      ]
    },
    {
      "cell_type": "code",
      "metadata": {
        "colab": {
          "base_uri": "https://localhost:8080/"
        },
        "id": "_hhSS_dTbq-B",
        "outputId": "fff433af-fb97-43f6-801f-d8c7657139af"
      },
      "source": [
        "## numpy\n",
        "x51 = tf.random.normal((2, 3))\n",
        "print(x51)\n",
        "\n",
        "x52 = x51.numpy()\n",
        "print(x52)\n",
        "print(type(x52))\n",
        "\n",
        "x53 = tf.convert_to_tensor(x52)\n",
        "print(x53)\n",
        "print(type(x53))"
      ],
      "execution_count": 52,
      "outputs": [
        {
          "output_type": "stream",
          "text": [
            "tf.Tensor(\n",
            "[[ 1.3595488   1.1215008  -0.41347364]\n",
            " [ 0.23418932  0.0954857   0.7981356 ]], shape=(2, 3), dtype=float32)\n",
            "[[ 1.3595488   1.1215008  -0.41347364]\n",
            " [ 0.23418932  0.0954857   0.7981356 ]]\n",
            "<class 'numpy.ndarray'>\n",
            "tf.Tensor(\n",
            "[[ 1.3595488   1.1215008  -0.41347364]\n",
            " [ 0.23418932  0.0954857   0.7981356 ]], shape=(2, 3), dtype=float32)\n",
            "<class 'tensorflow.python.framework.ops.EagerTensor'>\n"
          ],
          "name": "stdout"
        }
      ]
    }
  ]
}